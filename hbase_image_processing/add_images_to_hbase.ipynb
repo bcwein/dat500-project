{
 "metadata": {
  "language_info": {
   "codemirror_mode": {
    "name": "ipython",
    "version": 3
   },
   "file_extension": ".py",
   "mimetype": "text/x-python",
   "name": "python",
   "nbconvert_exporter": "python",
   "pygments_lexer": "ipython3",
   "version": ""
  },
  "orig_nbformat": 2,
  "kernelspec": {
   "name": "pythonjvsc74a57bd049b9d7999b747e48397e46c5f1a3840faee018341022365b9385f54c39a7b119",
   "display_name": "Python"
  },
  "metadata": {
   "interpreter": {
    "hash": "49b9d7999b747e48397e46c5f1a3840faee018341022365b9385f54c39a7b119"
   }
  }
 },
 "nbformat": 4,
 "nbformat_minor": 2,
 "cells": [
  {
   "cell_type": "code",
   "execution_count": 1,
   "metadata": {},
   "outputs": [],
   "source": [
    "from put_image import put\n",
    "import numpy as np\n",
    "import pandas as pd\n",
    "import os\n",
    "from tqdm import tqdm"
   ]
  },
  {
   "cell_type": "code",
   "execution_count": 2,
   "metadata": {},
   "outputs": [
    {
     "output_type": "execute_result",
     "data": {
      "text/plain": [
       "             level\n",
       "image             \n",
       "10_left          0\n",
       "10_right         0\n",
       "13_left          0\n",
       "13_right         0\n",
       "15_left          1\n",
       "...            ...\n",
       "44347_right      0\n",
       "44348_left       0\n",
       "44348_right      0\n",
       "44349_left       0\n",
       "44349_right      1\n",
       "\n",
       "[35126 rows x 1 columns]"
      ],
      "text/html": "<div>\n<style scoped>\n    .dataframe tbody tr th:only-of-type {\n        vertical-align: middle;\n    }\n\n    .dataframe tbody tr th {\n        vertical-align: top;\n    }\n\n    .dataframe thead th {\n        text-align: right;\n    }\n</style>\n<table border=\"1\" class=\"dataframe\">\n  <thead>\n    <tr style=\"text-align: right;\">\n      <th></th>\n      <th>level</th>\n    </tr>\n    <tr>\n      <th>image</th>\n      <th></th>\n    </tr>\n  </thead>\n  <tbody>\n    <tr>\n      <th>10_left</th>\n      <td>0</td>\n    </tr>\n    <tr>\n      <th>10_right</th>\n      <td>0</td>\n    </tr>\n    <tr>\n      <th>13_left</th>\n      <td>0</td>\n    </tr>\n    <tr>\n      <th>13_right</th>\n      <td>0</td>\n    </tr>\n    <tr>\n      <th>15_left</th>\n      <td>1</td>\n    </tr>\n    <tr>\n      <th>...</th>\n      <td>...</td>\n    </tr>\n    <tr>\n      <th>44347_right</th>\n      <td>0</td>\n    </tr>\n    <tr>\n      <th>44348_left</th>\n      <td>0</td>\n    </tr>\n    <tr>\n      <th>44348_right</th>\n      <td>0</td>\n    </tr>\n    <tr>\n      <th>44349_left</th>\n      <td>0</td>\n    </tr>\n    <tr>\n      <th>44349_right</th>\n      <td>1</td>\n    </tr>\n  </tbody>\n</table>\n<p>35126 rows × 1 columns</p>\n</div>"
     },
     "metadata": {},
     "execution_count": 2
    }
   ],
   "source": [
    "df = pd.read_csv('/home/ubuntu/diabetic-retinopathy/trainLabels.csv', index_col=0)\n",
    "df"
   ]
  },
  {
   "cell_type": "code",
   "execution_count": 3,
   "metadata": {},
   "outputs": [],
   "source": [
    "filenames = os.listdir('/home/ubuntu/diabetic-retinopathy/train')"
   ]
  },
  {
   "cell_type": "code",
   "execution_count": 4,
   "metadata": {},
   "outputs": [],
   "source": [
    "# Remove .jpeg extension from filenames\n",
    "for i, item in enumerate(filenames):\n",
    "    temp = os.path.splitext(item)[0]\n",
    "    filenames[i] = temp"
   ]
  },
  {
   "cell_type": "code",
   "execution_count": 5,
   "metadata": {},
   "outputs": [
    {
     "output_type": "execute_result",
     "data": {
      "text/plain": [
       "             level\n",
       "image             \n",
       "41012_left       0\n",
       "7291_left        0\n",
       "39864_left       2\n",
       "39415_left       0\n",
       "6763_left        0\n",
       "...            ...\n",
       "7724_left        2\n",
       "42_right         0\n",
       "40407_left       0\n",
       "43899_right      0\n",
       "7761_left        0\n",
       "\n",
       "[8415 rows x 1 columns]"
      ],
      "text/html": "<div>\n<style scoped>\n    .dataframe tbody tr th:only-of-type {\n        vertical-align: middle;\n    }\n\n    .dataframe tbody tr th {\n        vertical-align: top;\n    }\n\n    .dataframe thead th {\n        text-align: right;\n    }\n</style>\n<table border=\"1\" class=\"dataframe\">\n  <thead>\n    <tr style=\"text-align: right;\">\n      <th></th>\n      <th>level</th>\n    </tr>\n    <tr>\n      <th>image</th>\n      <th></th>\n    </tr>\n  </thead>\n  <tbody>\n    <tr>\n      <th>41012_left</th>\n      <td>0</td>\n    </tr>\n    <tr>\n      <th>7291_left</th>\n      <td>0</td>\n    </tr>\n    <tr>\n      <th>39864_left</th>\n      <td>2</td>\n    </tr>\n    <tr>\n      <th>39415_left</th>\n      <td>0</td>\n    </tr>\n    <tr>\n      <th>6763_left</th>\n      <td>0</td>\n    </tr>\n    <tr>\n      <th>...</th>\n      <td>...</td>\n    </tr>\n    <tr>\n      <th>7724_left</th>\n      <td>2</td>\n    </tr>\n    <tr>\n      <th>42_right</th>\n      <td>0</td>\n    </tr>\n    <tr>\n      <th>40407_left</th>\n      <td>0</td>\n    </tr>\n    <tr>\n      <th>43899_right</th>\n      <td>0</td>\n    </tr>\n    <tr>\n      <th>7761_left</th>\n      <td>0</td>\n    </tr>\n  </tbody>\n</table>\n<p>8415 rows × 1 columns</p>\n</div>"
     },
     "metadata": {},
     "execution_count": 5
    }
   ],
   "source": [
    "train_data = df.loc[filenames]\n",
    "train_data"
   ]
  },
  {
   "cell_type": "code",
   "execution_count": 6,
   "metadata": {},
   "outputs": [
    {
     "output_type": "stream",
     "name": "stderr",
     "text": [
      "0it [00:00, ?it/s]"
     ]
    }
   ],
   "source": [
    "for row in tqdm(train_data.iterrows()):\n",
    "    name = row[0]\n",
    "    level = row[1][0]\n",
    "\n",
    "    put('/home/ubuntu/diabetic-retinopathy/train/' + name + '.jpeg', level)\n"
   ]
  },
  {
   "cell_type": "code",
   "execution_count": null,
   "metadata": {},
   "outputs": [],
   "source": []
  }
 ]
}